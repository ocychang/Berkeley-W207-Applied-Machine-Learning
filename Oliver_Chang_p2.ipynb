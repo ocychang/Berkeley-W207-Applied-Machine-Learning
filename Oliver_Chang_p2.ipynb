{
 "cells": [
  {
   "cell_type": "markdown",
   "metadata": {
    "colab_type": "text",
    "id": "6t55qCf3Fsxa"
   },
   "source": [
    "# Project 2: Topic Classification"
   ]
  },
  {
   "cell_type": "markdown",
   "metadata": {
    "colab_type": "text",
    "id": "j9-9G8z4Fsxd"
   },
   "source": [
    "In this project, you'll work with text data from newsgroup posts on a variety of topics. You'll train classifiers to distinguish posts by topics inferred from the text. Whereas with digit classification, where each input is relatively dense (represented as a 28x28 matrix of pixels, many of which are non-zero), here each document is relatively sparse (represented as a bag-of-words). Only a few words of the total vocabulary are active in any given document. The assumption is that a label depends only on the count of words, not their order.\n",
    "\n",
    "The `sklearn` documentation on feature extraction may be useful:\n",
    "http://scikit-learn.org/stable/modules/feature_extraction.html\n",
    "\n",
    "Each problem can be addressed succinctly with the included packages -- please don't add any more. Grading will be based on writing clean, commented code, along with a few short answers.\n",
    "\n",
    "As always, you're welcome to work on the project in groups and discuss ideas on Slack, but <b> please prepare your own write-up with your own code. </b>"
   ]
  },
  {
   "cell_type": "code",
   "execution_count": 202,
   "metadata": {
    "colab": {},
    "colab_type": "code",
    "id": "AUYW83LqFsxd"
   },
   "outputs": [],
   "source": [
    "# This tells matplotlib not to try opening a new window for each plot.\n",
    "%matplotlib inline\n",
    "\n",
    "# General libraries.\n",
    "import re\n",
    "import numpy as np\n",
    "import matplotlib.pyplot as plt\n",
    "\n",
    "# SK-learn libraries for learning.\n",
    "from sklearn.pipeline import Pipeline\n",
    "from sklearn.neighbors import KNeighborsClassifier\n",
    "from sklearn.linear_model import LogisticRegression\n",
    "from sklearn.naive_bayes import BernoulliNB\n",
    "from sklearn.naive_bayes import MultinomialNB\n",
    "\n",
    "# SK-learn libraries for evaluation.\n",
    "from sklearn.metrics import confusion_matrix\n",
    "from sklearn import metrics\n",
    "from sklearn.metrics import classification_report\n",
    "\n",
    "# SK-learn library for importing the newsgroup data.\n",
    "from sklearn.datasets import fetch_20newsgroups\n",
    "\n",
    "# SK-learn libraries for feature extraction from text.\n",
    "from sklearn.feature_extraction.text import *\n",
    "\n",
    "import nltk"
   ]
  },
  {
   "cell_type": "markdown",
   "metadata": {
    "colab_type": "text",
    "id": "_ALNjGgCFsxg"
   },
   "source": [
    "Load the data, stripping out metadata so that only textual features will be used, and restricting documents to 4 specific topics. By default, newsgroups data is split into training and test sets, but here the test set gets further split into development and test sets.  (If you remove the categories argument from the fetch function calls, you'd get documents from all 20 topics.)"
   ]
  },
  {
   "cell_type": "code",
   "execution_count": 203,
   "metadata": {
    "colab": {},
    "colab_type": "code",
    "id": "ecYpcoxaFsxh"
   },
   "outputs": [
    {
     "name": "stdout",
     "output_type": "stream",
     "text": [
      "training label shape: (2034,)\n",
      "dev label shape: (676,)\n",
      "test label shape: (677,)\n",
      "labels names: ['alt.atheism', 'comp.graphics', 'sci.space', 'talk.religion.misc']\n"
     ]
    }
   ],
   "source": [
    "categories = ['alt.atheism', 'talk.religion.misc', 'comp.graphics', 'sci.space']\n",
    "newsgroups_train = fetch_20newsgroups(subset='train',\n",
    "                                      remove=('headers', 'footers', 'quotes'),\n",
    "                                      categories=categories)\n",
    "newsgroups_test  = fetch_20newsgroups(subset='test',\n",
    "                                      remove=('headers', 'footers', 'quotes'),\n",
    "                                      categories=categories)\n",
    "\n",
    "num_test = int(len(newsgroups_test.target) / 2)\n",
    "test_data, test_labels   = newsgroups_test.data[num_test:], newsgroups_test.target[num_test:]\n",
    "dev_data, dev_labels     = newsgroups_test.data[:num_test], newsgroups_test.target[:num_test]\n",
    "train_data, train_labels = newsgroups_train.data, newsgroups_train.target\n",
    "\n",
    "print('training label shape:', train_labels.shape)\n",
    "print('dev label shape:',      dev_labels.shape)\n",
    "print('test label shape:',     test_labels.shape)\n",
    "print('labels names:',         newsgroups_train.target_names)"
   ]
  },
  {
   "cell_type": "markdown",
   "metadata": {
    "colab_type": "text",
    "id": "OHTnOke6Fsxk"
   },
   "source": [
    "### Part 1:\n",
    "\n",
    "For each of the first 5 training examples, print the text of the message along with the label."
   ]
  },
  {
   "cell_type": "code",
   "execution_count": 204,
   "metadata": {
    "colab": {},
    "colab_type": "code",
    "id": "X8zhA06xFsxl"
   },
   "outputs": [
    {
     "name": "stdout",
     "output_type": "stream",
     "text": [
      "message: Hi,\n",
      "\n",
      "I've noticed that if you only save a model (with all your mapping planes\n",
      "positioned carefully) to a .3DS file that when you reload it after restarting\n",
      "3DS, they are given a default position and orientation.  But if you save\n",
      "to a .PRJ file their positions/orientation are preserved.  Does anyone\n",
      "know why this information is not stored in the .3DS file?  Nothing is\n",
      "explicitly said in the manual about saving texture rules in the .PRJ file. \n",
      "I'd like to be able to read the texture rule information, does anyone have \n",
      "the format for the .PRJ file?\n",
      "\n",
      "Is the .CEL file format available from somewhere?\n",
      "\n",
      "Rych\n",
      "label: comp.graphics\n",
      "\n",
      "message: \n",
      "\n",
      "Seems to be, barring evidence to the contrary, that Koresh was simply\n",
      "another deranged fanatic who thought it neccessary to take a whole bunch of\n",
      "folks with him, children and all, to satisfy his delusional mania. Jim\n",
      "Jones, circa 1993.\n",
      "\n",
      "\n",
      "Nope - fruitcakes like Koresh have been demonstrating such evil corruption\n",
      "for centuries.\n",
      "label: talk.religion.misc\n",
      "\n",
      "message: \n",
      " >In article <1993Apr19.020359.26996@sq.sq.com>, msb@sq.sq.com (Mark Brader) \n",
      "\n",
      "MB>                                                             So the\n",
      "MB> 1970 figure seems unlikely to actually be anything but a perijove.\n",
      "\n",
      "JG>Sorry, _perijoves_...I'm not used to talking this language.\n",
      "\n",
      "Couldn't we just say periapsis or apoapsis?\n",
      "\n",
      " \n",
      "label: sci.space\n",
      "\n",
      "message: I have a request for those who would like to see Charley Wingate\n",
      "respond to the \"Charley Challenges\" (and judging from my e-mail, there\n",
      "appear to be quite a few of you.)  \n",
      "\n",
      "It is clear that Mr. Wingate intends to continue to post tangential or\n",
      "unrelated articles while ingoring the Challenges themselves.  Between\n",
      "the last two re-postings of the Challenges, I noted perhaps a dozen or\n",
      "more posts by Mr. Wingate, none of which answered a single Challenge.  \n",
      "\n",
      "It seems unmistakable to me that Mr. Wingate hopes that the questions\n",
      "will just go away, and he is doing his level best to change the\n",
      "subject.  Given that this seems a rather common net.theist tactic, I\n",
      "would like to suggest that we impress upon him our desire for answers,\n",
      "in the following manner:\n",
      "\n",
      "1. Ignore any future articles by Mr. Wingate that do not address the\n",
      "Challenges, until he answers them or explictly announces that he\n",
      "refuses to do so.\n",
      "\n",
      "--or--\n",
      "\n",
      "2. If you must respond to one of his articles, include within it\n",
      "something similar to the following:\n",
      "\n",
      "    \"Please answer the questions posed to you in the Charley Challenges.\"\n",
      "\n",
      "Really, I'm not looking to humiliate anyone here, I just want some\n",
      "honest answers.  You wouldn't think that honesty would be too much to\n",
      "ask from a devout Christian, would you?  \n",
      "\n",
      "Nevermind, that was a rhetorical question.\n",
      "label: alt.atheism\n",
      "\n",
      "message: AW&ST  had a brief blurb on a Manned Lunar Exploration confernce\n",
      "May 7th  at Crystal City Virginia, under the auspices of AIAA.\n",
      "\n",
      "Does anyone know more about this?  How much, to attend????\n",
      "\n",
      "Anyone want to go?\n",
      "label: sci.space\n",
      "\n"
     ]
    }
   ],
   "source": [
    "def P1(num_examples=5):\n",
    "    ### STUDENT START ###\n",
    "    for i in range(0,num_examples):\n",
    "        print(\"message:\",train_data[i]) \n",
    "        print(\"label:\",newsgroups_train.target_names[train_labels[i]])\n",
    "        print(\"\")\n",
    "    \n",
    "    ### STUDENT END ###\n",
    "\n",
    "P1(5)"
   ]
  },
  {
   "cell_type": "markdown",
   "metadata": {
    "colab_type": "text",
    "id": "onfno6uHFsxm"
   },
   "source": [
    "### Part 2:\n",
    "\n",
    "Transform the training data into a matrix of **word** unigram feature vectors.  What is the size of the vocabulary? What is the average number of non-zero features per example?  What is the fraction of the non-zero entries in the matrix?  What are the 0th and last feature strings (in alphabetical order)?<br/>\n",
    "_Use `CountVectorization` and its `.fit_transform` method.  Use `.nnz` and `.shape` attributes, and `.get_feature_names` method._\n",
    "\n",
    "Now transform the training data into a matrix of **word** unigram feature vectors using your own vocabulary with these 4 words: [\"atheism\", \"graphics\", \"space\", \"religion\"].  Confirm the size of the vocabulary. What is the average number of non-zero features per example?<br/>\n",
    "_Use `CountVectorization(vocabulary=...)` and its `.transform` method._\n",
    "\n",
    "Now transform the training data into a matrix of **character** bigram and trigram feature vectors.  What is the size of the vocabulary?<br/>\n",
    "_Use `CountVectorization(analyzer=..., ngram_range=...)` and its `.fit_transform` method._\n",
    "\n",
    "Now transform the training data into a matrix of **word** unigram feature vectors and prune words that appear in fewer than 10 documents.  What is the size of the vocabulary?<br/>\n",
    "_Use `CountVectorization(min_df=...)` and its `.fit_transform` method._\n",
    "\n",
    "Now again transform the training data into a matrix of **word** unigram feature vectors. What is the fraction of words in the development vocabulary that is missing from the training vocabulary?<br/>\n",
    "_Hint: Build vocabularies for both train and dev and look at the size of the difference._\n",
    "\n",
    "Notes:\n",
    "* `.fit_transform` makes 2 passes through the data: first it computes the vocabulary (\"fit\"), second it converts the raw text into feature vectors using the vocabulary (\"transform\").\n",
    "* `.fit_transform` and `.transform` return sparse matrix objects.  See about them at http://docs.scipy.org/doc/scipy-0.14.0/reference/generated/scipy.sparse.csr_matrix.html.  "
   ]
  },
  {
   "cell_type": "code",
   "execution_count": 176,
   "metadata": {
    "colab": {},
    "colab_type": "code",
    "id": "LyVwk5RvFsxn"
   },
   "outputs": [
    {
     "name": "stdout",
     "output_type": "stream",
     "text": [
      "average numbers of nonzero features 96.70599803343165\n",
      "size of the vocabulary (26879,)\n",
      "first word in voc 00\n",
      "last word in voc zyxel\n",
      "fraction of the non-zero entries 0.0035978272269590263\n",
      "voc name ['atheism', 'graphics', 'space', 'religion']\n",
      "voc size (4,)\n",
      "average numbers of nonzero features 0.26843657817109146\n",
      "size of voc (35478,)\n",
      "size of voc (3064,)\n",
      "size of voc (26879,)\n",
      "missing ratio 0.24787640034470024\n"
     ]
    }
   ],
   "source": [
    "def P2():\n",
    "    ### STUDENT START ###\n",
    "    # sec 1  \n",
    "    coun_vect = CountVectorizer()\n",
    "    count_matrix = coun_vect.fit_transform(train_data)\n",
    "    count_array = count_matrix.toarray()\n",
    "    print(\"average numbers of nonzero features\",np.average(np.count_nonzero(count_array, axis=1)))\n",
    "    print(\"size of the vocabulary\",np.shape(coun_vect.get_feature_names()))\n",
    "    print(\"first word in voc\",coun_vect.get_feature_names()[0])\n",
    "    print(\"last word in voc\",coun_vect.get_feature_names()[-1])\n",
    "    print(\"fraction of the non-zero entries\",(np.count_nonzero(count_array)) /(len(count_array)*len(count_array[0])))\n",
    "    \n",
    "    # sec2\n",
    "    voc = {\"atheism\":0, \"graphics\":1, \"space\":2, \"religion\":3}\n",
    "    coun_vect = CountVectorizer(vocabulary =  voc)\n",
    "    count_matrix = coun_vect.fit_transform(train_data)\n",
    "    count_array = count_matrix.toarray()\n",
    "    print(\"voc name\", (coun_vect.get_feature_names()))\n",
    "    print(\"voc size\",np.shape(coun_vect.get_feature_names()))\n",
    "    print(\"average numbers of nonzero features\",np.average(np.count_nonzero(count_array, axis=1)))\n",
    "\n",
    "    \n",
    "    # sec3\n",
    "    coun_vect = CountVectorizer(analyzer='char', ngram_range = (2,3))\n",
    "    count_matrix = coun_vect.fit_transform(train_data)\n",
    "    count_array = count_matrix.toarray()\n",
    "    print(\"size of voc\",np.shape(coun_vect.get_feature_names()))\n",
    "\n",
    "    \n",
    "    #sec4\n",
    "    coun_vect = CountVectorizer(analyzer='word', min_df=10)\n",
    "    count_matrix = coun_vect.fit_transform(train_data)\n",
    "    count_array = count_matrix.toarray()\n",
    "    print(\"size of voc\",np.shape(coun_vect.get_feature_names()))\n",
    "\n",
    "    #sec5\n",
    "    coun_vect = CountVectorizer(analyzer='word')\n",
    "    count_matrix = coun_vect.fit_transform(train_data)\n",
    "    count_array = count_matrix.toarray()\n",
    "    print(\"size of voc\",np.shape(coun_vect.get_feature_names()))\n",
    "    \n",
    "    coun_vect_dev = CountVectorizer(analyzer='word')\n",
    "    count_matrix_dev = coun_vect_dev.fit_transform(dev_data)\n",
    "    count_array_dev = count_matrix_dev.toarray()\n",
    "#     print(type(coun_vect_dev.get_feature_names()))\n",
    "    \n",
    "    list2 = coun_vect_dev.get_feature_names()\n",
    "    list1 = coun_vect.get_feature_names()\n",
    "    diff = (set(list2).difference(list1))\n",
    "    print(\"missing ratio\",len(diff)/len(list2))\n",
    "   \n",
    "    ### STUDENT END ###\n",
    "\n",
    "P2()"
   ]
  },
  {
   "cell_type": "markdown",
   "metadata": {},
   "source": [
    "ANSWERS:\n",
    "\n",
    "Transform the training data into a matrix of word unigram feature vectors. \n",
    "\n",
    "What is the size of the vocabulary? \n",
    "\n",
    "A: The size is 26879\n",
    "\n",
    "What is the average number of non-zero features per example? \n",
    "\n",
    "A: 96.7 per example\n",
    "\n",
    "What is the fraction of the non-zero entries in the matrix? \n",
    "\n",
    "A: 0.00359\n",
    "\n",
    "What are the 0th and last feature strings (in alphabetical order)?\n",
    "\n",
    "A: The first word is 00 and last is xyzel\n",
    "\n",
    "\n",
    "Now transform the training data into a matrix of word unigram feature vectors using your own vocabulary with these 4 words: [\"atheism\", \"graphics\", \"space\", \"religion\"]. \n",
    "Confirm the size of the vocabulary. \n",
    "\n",
    "A: Confirmed the size is 4\n",
    "\n",
    "What is the average number of non-zero features per example?\n",
    "\n",
    "A: 0.268\n",
    "\n",
    "Now transform the training data into a matrix of character bigram and trigram feature vectors. \n",
    "What is the size of the vocabulary?\n",
    "\n",
    "A: The size is 35478\n",
    "\n",
    "Now transform the training data into a matrix of word unigram feature vectors and prune words that appear in fewer than 10 documents. \n",
    "\n",
    "What is the size of the vocabulary?\n",
    "\n",
    "A: The size is 3064\n",
    "\n",
    "Now again transform the training data into a matrix of word unigram feature vectors. \n",
    "What is the fraction of words in the development vocabulary that is missing from the training vocabulary?\n",
    "\n",
    "A: The missing fraction is 0.247\n"
   ]
  },
  {
   "cell_type": "markdown",
   "metadata": {
    "colab_type": "text",
    "id": "ydjkRh6LFsxp"
   },
   "source": [
    "### Part 3:\n",
    "\n",
    "Transform the training and development data to matrices of word unigram feature vectors.\n",
    "\n",
    "1. Produce several k-Nearest Neigbors models by varying k, including one with k set to optimize f1 score.  For each model, show the k value and f1 score.\n",
    "1. Produce several Naive Bayes models by varying smoothing (alpha), including one with alpha set approximately to optimize f1 score.  For each model, show the alpha value and f1 score.\n",
    "1. Produce several Logistic Regression models by varying L2 regularization strength (C), including one with C set approximately to optimize f1 score.  For each model, show the C value, f1 score, and sum of squared weights for each topic.\n",
    "\n",
    "* Why doesn't k-Nearest Neighbors work well for this problem?\n",
    "* Why doesn't Logistic Regression work as well as Naive Bayes does?\n",
    "* What is the relationship between logistic regression's sum of squared weights vs. C value?\n",
    "\n",
    "Notes:\n",
    "* Train on the transformed training data.\n",
    "* Evaluate on the transformed development data.\n",
    "* You can use `CountVectorizer` and its `.fit_transform` and `.transform` methods to transform data.\n",
    "* You can use `KNeighborsClassifier(...)` to produce a k-Nearest Neighbors model.\n",
    "* You can use `MultinomialNB(...)` to produce a Naive Bayes model.\n",
    "* You can use `LogisticRegression(C=..., solver=\"liblinear\", multi_class=\"auto\")` to produce a Logistic Regression model.\n",
    "* You can use `LogisticRegression`'s `.coef_` method to get weights for each topic.\n",
    "* You can use `metrics.f1_score(..., average=\"weighted\")` to compute f1 score."
   ]
  },
  {
   "cell_type": "code",
   "execution_count": 5,
   "metadata": {
    "colab": {},
    "colab_type": "code",
    "id": "VvhpODdWFsxp"
   },
   "outputs": [
    {
     "name": "stdout",
     "output_type": "stream",
     "text": [
      "k =  1  f1 score: 0.3831360946745562\n",
      "k =  2  f1 score: 0.39644970414201186\n",
      "k =  5  f1 score: 0.4230769230769231\n",
      "k =  10  f1 score: 0.42159763313609466\n",
      "k =  15  f1 score: 0.4334319526627219\n",
      "k =  20  f1 score: 0.4260355029585799\n",
      "k =  30  f1 score: 0.43195266272189353\n",
      "k =  50  f1 score: 0.4245562130177515\n",
      "alpha =  1e-10  f1 score: 0.7544378698224852\n",
      "alpha =  0.0001  f1 score: 0.7692307692307693\n",
      "alpha =  0.001  f1 score: 0.7751479289940828\n",
      "alpha =  0.01  f1 score: 0.7795857988165681\n",
      "alpha =  0.1  f1 score: 0.7928994082840237\n",
      "alpha =  0.25  f1 score: 0.7914201183431951\n",
      "alpha =  0.5  f1 score: 0.7884615384615384\n",
      "alpha =  0.75  f1 score: 0.7869822485207101\n",
      "alpha =  1  f1 score: 0.7810650887573964\n",
      "C =  0.01  f1 score =  0.6646997417582748\n",
      "Sum of sqrd weights =  [2.54147899 2.93970937 2.86246884 2.25002923]\n",
      "C =  0.025  f1 score =  0.6644427912383478\n",
      "Sum of sqrd weights =  [6.93990212 7.26868989 7.44620322 5.88545223]\n",
      "C =  0.05  f1 score =  0.6866730854341511\n",
      "Sum of sqrd weights =  [14.07061618 13.66910804 14.60408295 11.86068143]\n",
      "C =  0.1  f1 score =  0.6966243542418833\n",
      "Sum of sqrd weights =  [27.12931532 24.65876284 27.45841078 23.0260284 ]\n",
      "C =  0.25  f1 score =  0.7080577265005641\n",
      "Sum of sqrd weights =  [59.82074537 50.57634765 58.93872777 51.46266462]\n",
      "C =  0.5  f1 score =  0.7084739776490449\n",
      "Sum of sqrd weights =  [102.61858244  83.12025024  99.02665761  88.99292605]\n",
      "C =  0.75  f1 score =  0.6924667174169086\n",
      "Sum of sqrd weights =  [137.37581818 108.97752693 130.88105965 119.52795369]\n",
      "C =  1  f1 score =  0.6944172871853819\n",
      "Sum of sqrd weights =  [166.98021466 130.91260097 157.97022785 145.75723151]\n"
     ]
    }
   ],
   "source": [
    "def P3():\n",
    "    ### STUDENT START ###\n",
    "    from sklearn.metrics import f1_score\n",
    "    #0\n",
    "    coun_vect = CountVectorizer(analyzer='word')\n",
    "    count_matrix = coun_vect.fit_transform(train_data)\n",
    "    count_matrix_dev = coun_vect.transform(dev_data)\n",
    "\n",
    "\n",
    "    #1\n",
    "    k_values=[1,2,5,10,15,20,30,50]\n",
    "\n",
    "    for k in k_values:\n",
    "        KNN = KNeighborsClassifier(n_neighbors=k)\n",
    "        KNN.fit(count_matrix, train_labels)\n",
    "        y_pred = KNN.predict(count_matrix_dev)\n",
    "        print(\"k = \", k, \" f1 score:\", f1_score(dev_labels, y_pred, average='micro'))\n",
    "\n",
    "    #2\n",
    "    alphas =  [1.0e-10, 0.0001, 0.001, 0.01, 0.1, 0.25, 0.5, 0.75, 1]\n",
    "    for a in alphas:\n",
    "        NB = MultinomialNB(alpha = a)\n",
    "        NB.fit(count_matrix, train_labels)\n",
    "        y_pred = NB.predict(count_matrix_dev)\n",
    "        print(\"alpha = \", a, \" f1 score:\", f1_score(dev_labels, y_pred, average='micro'))\n",
    "    \n",
    "    #3\n",
    "    C_reg = [0.01, 0.025, 0.05, 0.1, 0.25, 0.5, 0.75, 1]\n",
    "    voc = ['atheism', 'graphics', 'space', 'religion']\n",
    "    for c in C_reg:\n",
    "        LGR = LogisticRegression(C= c, solver=\"liblinear\", multi_class=\"auto\")\n",
    "        LGR.fit(count_matrix, train_labels)\n",
    "        y_pred = LGR.predict(count_matrix_dev)\n",
    "        \n",
    "        print(\"C = \", c, \" f1 score = \", f1_score(dev_labels, y_pred, average='weighted'))\n",
    "        print(\"Sum of sqrd weights = \", np.sum(np.square(LGR.coef_), axis = 1))\n",
    "    \n",
    "\n",
    "    ### STUDENT END ###\n",
    "\n",
    "P3()"
   ]
  },
  {
   "cell_type": "markdown",
   "metadata": {},
   "source": [
    "ANSWERS:\n",
    "\n",
    "Transform the training and development data to matrices of word unigram feature vectors.\n",
    " \n",
    "Produce several k-Nearest Neigbors models by varying k, including one with k set to optimize f1 score. For each model, show the k value and f1 score.\n",
    "\n",
    "A: The optimized k based on the search is k = 15, f1 = 0.433\n",
    "\n",
    "Produce several Naive Bayes models by varying smoothing (alpha), including one with alpha set approximately to optimize f1 score. For each model, show the alpha value and f1 score.\n",
    "\n",
    "A: The optimized alpha based on the search is alpha = 0.1, f1 = 0.792\n",
    "\n",
    "Produce several Logistic Regression models by varying L2 regularization strength (C), including one with C set approximately to optimize f1 score. For each model, show the C value, f1 score, and sum of squared weights for each topic.\n",
    "\n",
    "A: The optimized C based on the search is C = 0.5, f1 = 0.708, Sum of sqrd weights =  [102.61858244  83.12025024  99.02665761  88.99292605]\n",
    "\n",
    "Why doesn't k-Nearest Neighbors work well for this problem?\n",
    "\n",
    "A: In high dimensions, in this case 20000+ features, the distances among datasets become really similar so the KNN clustering doesn’t work well.  \n",
    "\n",
    "Why doesn't Logistic Regression work as well as Naive Bayes does?\n",
    "\n",
    "A: I think it’s because the decision boundaries of this dataset are not linear, therefore logistic regression cannot fully capture the categories. However, the nonlinear boundaries might be better captured by probability even under the assumption of independence.  \n",
    "\n",
    "What is the relationship between logistic regression's sum of squared weights vs. C value?\n",
    "\n",
    "A: The sum of squared weights increases with decreasing C. The more you penalize (lower C), the less the weights of the features you get. \n",
    "\n"
   ]
  },
  {
   "cell_type": "markdown",
   "metadata": {
    "colab_type": "text",
    "id": "dGEjsm_uFsxr"
   },
   "source": [
    "### Part 4:\n",
    "\n",
    "Transform the data to a matrix of word **bigram** feature vectors.  Produce a Logistic Regression model.  For each topic, find the 5 features with the largest weights (that's 20 features in total).  Show a 20 row (features) x 4 column (topics) table of the weights.\n",
    "\n",
    "Do you see any surprising features in this table?\n",
    "\n",
    "Notes:\n",
    "* Train on the transformed training data.\n",
    "* You can use `CountVectorizer` and its `.fit_transform` method to transform data.\n",
    "* You can use `LogisticRegression(C=0.5, solver=\"liblinear\", multi_class=\"auto\")` to produce a Logistic Regression model.\n",
    "* You can use `LogisticRegression`'s `.coef_` method to get weights for each topic.\n",
    "* You can use `np.argsort` to get indices sorted by element value. "
   ]
  },
  {
   "cell_type": "code",
   "execution_count": 201,
   "metadata": {
    "colab": {},
    "colab_type": "code",
    "id": "WN51Nv4fFsxs"
   },
   "outputs": [
    {
     "name": "stdout",
     "output_type": "stream",
     "text": [
      "| you are          |0.4727410678029455|-0.27990883621187757|-0.48144560652989665|0.02838189681070378|\n",
      "| was just         |0.4820504282514528|-0.13141969012144752|-0.1288566859657528|-0.22746262124487038|\n",
      "| cheers kent      |0.5557193560274426|-0.6979081417417845|-0.6637870931927203|0.5348123511244915|\n",
      "| claim that       |0.6055483581281599|-0.19904247406930806|-0.27438759316761185|-0.14036525128744615|\n",
      "| looking for      |-0.6303407421598413|1.1083652438931857|-0.4999294290701043|-0.5718558972954099|\n",
      "| is there         |-0.3408817537053822|0.7549788012531637|-0.46825302183876044|-0.25708452828081335|\n",
      "| out there        |-0.2748022019543725|0.7586775000547401|-0.47901754865199486|-0.27708140918849533|\n",
      "| comp graphics    |-0.29216536955021083|0.8012034332976936|-0.37090249218289034|-0.2851863375378996|\n",
      "| in advance       |-0.4593508014500482|0.8325683389734327|-0.4384910053005233|-0.4184549960454566|\n",
      "| looking for      |-0.6303407421598413|1.1083652438931857|-0.4999294290701043|-0.5718558972954099|\n",
      "| and such         |-0.2042687566627753|-0.33752001163885514|0.5905615063011579|-0.21819780736383199|\n",
      "| sci space        |-0.2580086381153524|-0.32914540582281226|0.6211238163842614|-0.2212473505820128|\n",
      "| cheers kent      |0.5557193560274426|-0.6979081417417845|-0.6637870931927203|0.5348123511244915|\n",
      "| the moon         |-0.35056324216470264|-0.4927239532051636|0.8312166208885443|-0.21379558804500354|\n",
      "| the space        |-0.2681877292255049|-0.530084183802782|0.8711487737226797|-0.2738352151435995|\n",
      "| ignorance is     |-0.15801120328574655|-0.17106811780276748|-0.13958321552427252|0.5043066423274296|\n",
      "| does anyone      |-0.37976930715897034|0.43285597743568177|0.0356055142080167|-0.516409669608842|\n",
      "| cheers kent      |0.5557193560274426|-0.6979081417417845|-0.6637870931927203|0.5348123511244915|\n",
      "| the fbi          |-0.13197394440703109|-0.21134320190486355|-0.2953261660739739|0.551992737508188|\n",
      "| looking for      |-0.6303407421598413|1.1083652438931857|-0.4999294290701043|-0.5718558972954099|\n"
     ]
    }
   ],
   "source": [
    "def P4():\n",
    "    ### STUDENT START ###\n",
    "    categories = ['alt.atheism', 'talk.religion.misc', 'comp.graphics', 'sci.space']\n",
    "    categories.sort()\n",
    "    coun_vect = CountVectorizer(analyzer='word', ngram_range=(2,2))\n",
    "    count_matrix = coun_vect.fit_transform(train_data)\n",
    "    count_array = count_matrix.toarray()\n",
    "    feature_name = coun_vect.get_feature_names()\n",
    "    LGR = LogisticRegression(C=0.5, solver=\"liblinear\", multi_class=\"auto\") \n",
    "    LGR.fit(count_matrix, train_labels)\n",
    "#     print(LGR.coef_.shape)\n",
    "    best_n = np.argsort(np.abs(LGR.coef_), axis=1)[:,-5:]\n",
    "#     for i in range(0,4):\n",
    "#         print(categories[i])\n",
    "#         print(np.array(coun_vect.get_feature_names())[best_n[i]])\n",
    "#         print(LGR.coef_[i, best_n[i]])\n",
    "        \n",
    "        \n",
    "    # print table    \n",
    "    best_nf = best_n.flatten()\n",
    "    template = '| {0:16} |{1:8}|{2:8}|{3:8}|{4:8}|' \n",
    "    for i in range(0,20):\n",
    "        print(template.format(np.array(coun_vect.get_feature_names())[best_nf[i]], \\\n",
    "                              LGR.coef_[0][best_nf[i]], \\\n",
    "                              LGR.coef_[1][best_nf[i]], \\\n",
    "                              LGR.coef_[2][best_nf[i]], \\\n",
    "                              LGR.coef_[3][best_nf[i]]))  \n",
    "    ### STUDENT END ###\n",
    "\n",
    "P4()\n",
    "\n"
   ]
  },
  {
   "cell_type": "markdown",
   "metadata": {
    "colab_type": "text",
    "id": "cY67F-tXFsxt"
   },
   "source": [
    "ANSWER:\n",
    "\n",
    "Transform the data to a matrix of word bigram feature vectors. Produce a Logistic Regression model. \n",
    "\n",
    "For each topic, find the 5 features with the largest weights (that's 20 features in total). \n",
    "\n",
    "Show a 20 row (features) x 4 column (topics) table of the weights.\n",
    "\n",
    "Do you see any surprising features in this table?\n",
    "\n",
    "A: “cheers kent” shows up multiple times. So it seems like someone is having a lot of communication with this Kent. Also, a lot of the words are just connecting works such as “you are”, “was just”, and “looking for”. We may want to eliminate those to improve the performance of the model.  \n",
    "\n"
   ]
  },
  {
   "cell_type": "markdown",
   "metadata": {
    "colab_type": "text",
    "id": "rVWhSJHHFsxu"
   },
   "source": [
    "### Part 5:\n",
    "\n",
    "To improve generalization, it is common to try preprocessing text in various ways before splitting into words. For example, you could try transforming strings to lower case, replacing sequences of numbers with single tokens, removing various non-letter characters, and shortening long words.\n",
    "\n",
    "Produce a Logistic Regression model (with no preprocessing of text).  Evaluate and show its f1 score and size of the dictionary.\n",
    "\n",
    "Produce an improved Logistic Regression model by preprocessing the text.  Evaluate and show its f1 score and size of the vocabulary.  Try for an improvement in f1 score of at least 0.02.\n",
    "\n",
    "How much did the improved model reduce the vocabulary size?\n",
    "\n",
    "Notes:\n",
    "* Train on the transformed training data.\n",
    "* Evaluate on the transformed development data.\n",
    "* You can use `CountVectorizer(preprocessor=...)` to preprocess strings with your own custom-defined function.\n",
    "* `CountVectorizer` default is to preprocess strings to lower case.\n",
    "* You can use `LogisticRegression(C=0.5, solver=\"liblinear\", multi_class=\"auto\")` to produce a logistic regression model.\n",
    "* You can use `metrics.f1_score(..., average=\"weighted\")` to compute f1 score.\n",
    "* If you're not already familiar with regular expressions for manipulating strings, see https://docs.python.org/2/library/re.html, and re.sub() in particular."
   ]
  },
  {
   "cell_type": "code",
   "execution_count": 177,
   "metadata": {
    "colab": {},
    "colab_type": "code",
    "id": "l7gS3cGpFsxv"
   },
   "outputs": [
    {
     "name": "stdout",
     "output_type": "stream",
     "text": [
      "No preprocessing size = 33291 F1 = 0.7069109185493502\n",
      "With preprocessing size = 27629 F1 = 0.7206946282104394\n"
     ]
    }
   ],
   "source": [
    "from sklearn.metrics import f1_score\n",
    "\n",
    "def null_preprocessor(s):\n",
    "    return s\n",
    "\n",
    "def good_preprocessor(s):\n",
    "\n",
    "    s2 = re.sub(r\"\\w*\\d\\w*\", '', s) # remove digits\n",
    "    s2 = re.sub(r'\\b\\w{1,3}\\b', '', s2) # remove short words\n",
    "    s2 = re.sub(',', '', s2) # remove comma\n",
    "    s2 = re.sub('!', '', s2) # remove comma\n",
    "\n",
    "    s2 = re.sub(r'&+', '', s2) # remove words with special char\n",
    "    s2 = re.sub(r'_+', '', s2) # remove words with special char\n",
    "    s2 = re.sub(r'#+', '', s2) # remove words with special char\n",
    "    s2 = re.sub(r'@+', '', s2) # remove words with special char\n",
    "    \n",
    "    \n",
    "    return s2\n",
    "\n",
    "def P5():\n",
    "\n",
    "    # no preprocessing    \n",
    "    coun_vect = CountVectorizer(preprocessor=null_preprocessor)\n",
    "#     coun_vect = CountVectorizer()\n",
    "    count_matrix = coun_vect.fit_transform(train_data)\n",
    "    count_matrix_dev = coun_vect.transform(dev_data)\n",
    "    feature_name = coun_vect.get_feature_names()\n",
    "    \n",
    "    LGR = LogisticRegression(C=0.5, solver=\"liblinear\", multi_class=\"auto\") \n",
    "    LGR.fit(count_matrix, train_labels)\n",
    "    y_pred = LGR.predict(count_matrix_dev)\n",
    "    f1 = f1_score(dev_labels, y_pred,average=\"weighted\")\n",
    "    print(\"No preprocessing\",\"size =\", len(feature_name), \"F1 =\",f1 )\n",
    "    \n",
    "    # processed \n",
    "    coun_vect = CountVectorizer(preprocessor=good_preprocessor)\n",
    "    count_matrix = coun_vect.fit_transform(train_data)\n",
    "    count_matrix_dev = coun_vect.transform(dev_data)\n",
    "    feature_name = coun_vect.get_feature_names()\n",
    "    \n",
    "    LGR = LogisticRegression(C=0.5, solver=\"liblinear\", multi_class=\"auto\") \n",
    "    LGR.fit(count_matrix, train_labels)\n",
    "    y_pred = LGR.predict(count_matrix_dev)\n",
    "    f1 = f1_score(dev_labels, y_pred,average=\"weighted\")\n",
    "    print(\"With preprocessing\",\"size =\", len(feature_name), \"F1 =\",f1 )    \n",
    "  \n",
    "\n",
    "P5()\n"
   ]
  },
  {
   "cell_type": "markdown",
   "metadata": {},
   "source": [
    "ANSWER:\n",
    "\n",
    "Produce an improved Logistic Regression model by preprocessing the text. Evaluate and show its f1 score and size of the vocabulary. Try for an improvement in f1 score of at least 0.02.\n",
    "\n",
    "How much did the improved model reduce the vocabulary size?\n",
    "\n",
    "A: In this case, I reduced the vocabulary size from 33291 to 27629. The F1 score improved from 0.7 to 0.72. I generated a preprocessor that eliminates words containing digits, special characters, and shorter than 4 characters.\n",
    "\n",
    "One interesting discovery is that if I don’t pass in any preprocessor into the countvectorizer, the size is  26879, However, if I pass in a null preprocessor, the size becomes 33291. I think it’s because the vectorizer generates different features based on different input arguments. \n"
   ]
  },
  {
   "cell_type": "markdown",
   "metadata": {
    "colab_type": "text",
    "id": "Uy-WITbNFsxw"
   },
   "source": [
    "### Part 6:\n",
    "\n",
    "The idea of regularization is to avoid learning very large weights (which are likely to fit the training data, but not generalize well) by adding a penalty to the total size of the learned weights. Logistic regression seeks the set of weights that minimizes errors in the training data AND has a small total size. The default L2 regularization computes this size as the sum of the squared weights (as in Part 3 above). L1 regularization computes this size as the sum of the absolute values of the weights. Whereas L2 regularization makes all the weights relatively small, L1 regularization drives many of the weights to 0, effectively removing unimportant features.\n",
    "\n",
    "For several L1 regularization strengths ...<br/>\n",
    "* Produce a Logistic Regression model using the **L1** regularization strength.  Reduce the vocabulary to only those features that have at least one non-zero weight among the four categories.  Produce a new Logistic Regression model using the reduced vocabulary and **L2** regularization strength of 0.5.  Evaluate and show the L1 regularization strength, vocabulary size, and f1 score associated with the new model.\n",
    "\n",
    "Show a plot of f1 score vs. log vocabulary size.  Each point corresponds to a specific L1 regularization strength used to reduce the vocabulary.\n",
    "\n",
    "How does performance of the models based on reduced vocabularies compare to that of a model based on the full vocabulary?\n",
    "\n",
    "Notes:\n",
    "* Train on the transformed training data.\n",
    "* Evaluate on the transformed development data.\n",
    "* You can use `LogisticRegression(..., penalty=\"l1\")` to produce a logistic regression model using L1 regularization.\n",
    "* You can use `LogisticRegression(..., penalty=\"l2\")` to produce a logistic regression model using L2 regularization.\n",
    "* You can use `LogisticRegression(..., tol=0.015)` to produce a logistic regression model using relaxed gradient descent convergence criteria.  The gradient descent code that trains the logistic regression model sometimes has trouble converging with extreme settings of the C parameter. Relax the convergence criteria by setting tol=.015 (the default is .0001)."
   ]
  },
  {
   "cell_type": "code",
   "execution_count": 131,
   "metadata": {
    "colab": {},
    "colab_type": "code",
    "id": "l6ho31SrFsxx"
   },
   "outputs": [
    {
     "name": "stdout",
     "output_type": "stream",
     "text": [
      "L1 C-value: 100 Vocabulary length 7633\n",
      "F1= 0.7035670135043813\n",
      "L1 C-value: 50 Vocabulary length 4404\n",
      "F1= 0.7019805075799209\n",
      "L1 C-value: 20 Vocabulary length 3342\n",
      "F1= 0.700597083858194\n",
      "L1 C-value: 10 Vocabulary length 2352\n",
      "F1= 0.6902818170340365\n",
      "L1 C-value: 5 Vocabulary length 1874\n",
      "F1= 0.6922931718081061\n"
     ]
    },
    {
     "name": "stderr",
     "output_type": "stream",
     "text": [
      "C:\\Users\\occ10\\anaconda3\\lib\\site-packages\\sklearn\\svm\\_base.py:985: ConvergenceWarning: Liblinear failed to converge, increase the number of iterations.\n",
      "  warnings.warn(\"Liblinear failed to converge, increase \"\n"
     ]
    },
    {
     "name": "stdout",
     "output_type": "stream",
     "text": [
      "L1 C-value: 2 Vocabulary length 1429\n",
      "F1= 0.6882871214702103\n",
      "L1 C-value: 1 Vocabulary length 978\n",
      "F1= 0.6726058565881952\n",
      "L1 C-value: 0.5 Vocabulary length 622\n",
      "F1= 0.6471385337271937\n",
      "L1 C-value: 0.2 Vocabulary length 320\n",
      "F1= 0.6649718553482101\n",
      "L1 C-value: 0.1 Vocabulary length 165\n",
      "F1= 0.6495296257166995\n",
      "L1 C-value: 0.01 Vocabulary length 9\n",
      "F1= 0.4182373493484922\n",
      "L1 C-value: 0.005 Vocabulary length 7\n",
      "F1= 0.4155307477836479\n",
      "L1 C-value: 0.001 Vocabulary length 2\n",
      "F1= 0.3304671843012338\n"
     ]
    },
    {
     "data": {
      "image/png": "[encoded data removed]",
      "text/plain": [
       "<Figure size 432x288 with 1 Axes>"
      ]
     },
     "metadata": {
      "needs_background": "light"
     },
     "output_type": "display_data"
    }
   ],
   "source": [
    "def P6():\n",
    "#     Keep this random seed here to make comparison easier.\n",
    "    np.random.seed(0)\n",
    "    \n",
    "    coun_vect = CountVectorizer(preprocessor=good_preprocessor)\n",
    "    count_matrix = coun_vect.fit_transform(train_data)\n",
    "    count_matrix_dev = coun_vect.transform(dev_data)\n",
    "    \n",
    "    # L1\n",
    "    C1 = [100, 50, 20, 10, 5, 2, 1, 0.5, 0.2, 0.1, 0.01, 0.005, 0.001]\n",
    "    x= []\n",
    "    y = []\n",
    "    for c1 in C1:\n",
    "        LGR = LogisticRegression(C=c1, solver=\"liblinear\", multi_class=\"auto\", penalty=\"l1\", tol=0.015) \n",
    "        LGR.fit(count_matrix, train_labels)\n",
    "        id = np.nonzero(LGR.coef_.sum(axis = 0))[0]\n",
    "        voc = np.array(coun_vect.get_feature_names())[id]\n",
    "        print(\"L1 C-value:\", c1, \"Vocabulary length\",len(np.nonzero(LGR.coef_.sum(axis = 0))[0]))\n",
    "\n",
    "        # L2\n",
    "        c2 = 0.5\n",
    "        coun_vect = CountVectorizer(vocabulary =  voc)\n",
    "        count_matrix = coun_vect.fit_transform(train_data)\n",
    "        count_matrix_dev = coun_vect.transform(dev_data)\n",
    "        LGR = LogisticRegression(C=c2, solver=\"liblinear\", multi_class=\"auto\", penalty=\"l2\", tol=0.015) \n",
    "        LGR.fit(count_matrix, train_labels)\n",
    "        y_pred =LGR.predict(count_matrix_dev)\n",
    "        f1 = f1_score(dev_labels, y_pred,average=\"weighted\")\n",
    "        print(\"F1=\",f1 )\n",
    "        x.append(np.log(len(voc)))\n",
    "        y.append(f1)\n",
    "        \n",
    "    fig = plt.figure()\n",
    "    fig.suptitle(\"Vocabulary s=Size vs. F1\", fontweight=\"bold\")\n",
    "    plt.ylabel(\"F1\")\n",
    "    plt.xlabel(\"Vocabulary Size (log)\")\n",
    "    plt.scatter(x, y) \n",
    "    plt.plot(x, y, color=\"red\", linewidth=2)\n",
    "    plt.show()\n",
    "    \n",
    "    ## STUDENT START ###\n",
    "    ## STUDENT END ###\n",
    "\n",
    "P6()"
   ]
  },
  {
   "cell_type": "markdown",
   "metadata": {
    "colab_type": "text",
    "id": "bZmIPwExFsx1"
   },
   "source": [
    "ANSWER:\n",
    "\n",
    "How does performance of the models based on reduced vocabularies compare to that of a model based on the full vocabulary?\n",
    "\n",
    "A: The F1 score increases with the log-size of the vocabulary. The plot suggests that there is a lower limit, log(voc size) ~=6, of the vocabulary size you can reduce to before you start to lose information from the data.  \n",
    "\n"
   ]
  },
  {
   "cell_type": "markdown",
   "metadata": {
    "colab_type": "text",
    "id": "QmrHf8AMFsxz"
   },
   "source": [
    "### Part 7:\n",
    "\n",
    "How is `TfidfVectorizer` different than `CountVectorizer`?\n",
    "\n",
    "Produce a Logistic Regression model based on data represented in tf-idf form, with L2 regularization strength of 100.  Evaluate and show the f1 score.  How is `TfidfVectorizer` different than `CountVectorizer`?\n",
    "\n",
    "Show the 3 documents with highest R ratio, where ...<br/>\n",
    "$R\\,ratio = maximum\\,predicted\\,probability \\div predicted\\,probability\\,of\\,correct\\,label$\n",
    "\n",
    "Explain what the R ratio describes.  What kinds of mistakes is the model making? Suggest a way to address one particular issue that you see.\n",
    "\n",
    "Note:\n",
    "* Train on the transformed training data.\n",
    "* Evaluate on the transformed development data.\n",
    "* You can use `TfidfVectorizer` and its `.fit_transform` method to transform data to tf-idf form.\n",
    "* You can use `LogisticRegression(C=100, solver=\"liblinear\", multi_class=\"auto\")` to produce a logistic regression model.\n",
    "* You can use `LogisticRegression`'s `.predict_proba` method to access predicted probabilities."
   ]
  },
  {
   "cell_type": "code",
   "execution_count": 185,
   "metadata": {
    "colab": {},
    "colab_type": "code",
    "id": "8vwU_9t2Fsx0"
   },
   "outputs": [
    {
     "name": "stdout",
     "output_type": "stream",
     "text": [
      "F1= 0.7597662427853104\n",
      "R-ratio: 287.3063890755879\n",
      "\n",
      "The 24 children were, of course, killed by a lone gunman in a second story\n",
      "window, who fired eight bullets in the space of two seconds...\n",
      "\n",
      "predicted label 3 ; correct label 0\n",
      "\n",
      "R-ratio: 325.0037301669898\n",
      "Can anyone provide me a ftp site where I can obtain a online version\n",
      "of the Book of Mormon. Please email the internet address if possible.\n",
      "predicted label 1 ; correct label 3\n",
      "\n",
      "R-ratio: 929.3566638687251\n",
      "I am pleased to announce that a *revised version* of _The Easy-to-Read Book\n",
      "of Mormon_ (former title: _Mormon's Book_) by Lynn Matthews Anderson is now\n",
      "available through anonymous ftp (see information below). In addition to the\n",
      "change in title, the revised ETR BOM has been shortened by several pages\n",
      "(eliminating many extraneous \"that's\" and \"of's\"), and many (minor) errors\n",
      "have been corrected. This release includes a simplified Joseph Smith Story,\n",
      "testimonies of the three and eight witnesses, and a \"Words-to-Know\"\n",
      "glossary.\n",
      "\n",
      "As with the previous announcement, readers are reminded that this is a\n",
      "not-for-profit endeavor. This is a copyrighted work, but people are welcome\n",
      "to make *verbatim* copies for personal use. People can recuperate the\n",
      "actual costs of printing (paper, copy center charges), but may not charge\n",
      "anything for their time in making copies, or in any way realize a profit\n",
      "from the use of this book. See the permissions notice in the book itself\n",
      "for the precise terms.\n",
      "\n",
      "Negotiations are currently underway with a Mormon publisher vis-a-vis the\n",
      "printing and distribution of bound books. (Sorry, I'm out of the wire-bound\n",
      "\"first editions.\") I will make another announcement about the availability\n",
      "of printed copies once everything has been worked out.\n",
      "\n",
      "FTP information: connect via anonymous ftp to carnot.itc.cmu.edu, then \"cd\n",
      "pub\" (you won't see anything at all until you do).\n",
      "\n",
      "\"The Easy-to-Read Book of Mormon\" is currently available in postscript and\n",
      "RTF (rich text format). (ASCII, LaTeX, and other versions can be made\n",
      "available; contact dba@andrew.cmu.edu for details.) You should be able to\n",
      "print the postscript file on any postscript printer (such as an Apple\n",
      "Laserwriter); let dba know if you have any difficulties. (The postscript in\n",
      "the last release had problems on some printers; this time it should work\n",
      "better.) RTF is a standard document interchange format that can be read in\n",
      "by a number of word processors, including Microsoft Word for both the\n",
      "Macintosh and Windows. If you don't have a postscript printer, you may be\n",
      "able to use the RTF file to print out a copy of the book.\n",
      "\n",
      "-r--r--r--  1 dba                   1984742 Apr 27 13:12 etrbom.ps\n",
      "-r--r--r--  1 dba                   1209071 Apr 27 13:13 etrbom.rtf\n",
      "\n",
      "For more information about how this project came about, please refer to my\n",
      "article in the current issue of _Sunstone_, entitled \"Delighting in\n",
      "Plainness: Issues Surrounding a Simple Modern English Book of Mormon.\"\n",
      "\n",
      "Send all inquiries and comments to:\n",
      "\n",
      "    Lynn Matthews Anderson\n",
      "    5806 Hampton Street\n",
      "    Pittsburgh, PA 15206\n",
      "predicted label 1 ; correct label 3\n",
      "\n"
     ]
    }
   ],
   "source": [
    "def P7():\n",
    "    ## STUDENT START ###\n",
    "    \n",
    "    TF_vect = TfidfVectorizer()\n",
    "    TF_vect_matrix = TF_vect.fit_transform(train_data)\n",
    "    TF_vect_matrix_dev = TF_vect.transform(dev_data)\n",
    "    LGR = LogisticRegression(C=100, solver=\"liblinear\", multi_class=\"auto\")\n",
    "    LGR.fit(TF_vect_matrix,train_labels)\n",
    "    yprob_pred = LGR.predict_proba(TF_vect_matrix_dev)\n",
    "    y_pred = LGR.predict(TF_vect_matrix_dev)\n",
    "    \n",
    "    f1 = f1_score(dev_labels, y_pred,average=\"weighted\")\n",
    "    print(\"F1=\",f1 )\n",
    "    \n",
    "    max_prob = np.max(yprob_pred, axis = 1)\n",
    "    \n",
    "    r_ratio = []\n",
    "    for i in range(0, len(dev_labels)):   \n",
    "        r_ratio.append(max_prob[i]/yprob_pred[i,dev_labels[i]])\n",
    "\n",
    "    best_n = np.argsort(r_ratio)[-3:]\n",
    "#     print(best_n)\n",
    "    \n",
    "    for b in best_n:\n",
    "        print(\"R-ratio:\", r_ratio[b])\n",
    "        print(dev_data[b])\n",
    "        print(\"predicted label\", y_pred[b],\"; correct label\",dev_labels[b] )\n",
    "        print()\n",
    "    \n",
    "    ## STUDENT END ###\n",
    "\n",
    "\n",
    "P7()"
   ]
  },
  {
   "cell_type": "markdown",
   "metadata": {
    "colab_type": "text",
    "id": "bZmIPwExFsx1"
   },
   "source": [
    "ANSWER:\n",
    "\n",
    "How is TfidfVectorizer different than CountVectorizer?\n",
    "\n",
    "A: TF-IDF if the short for term frequency–inverse document frequency. It means the vectorizer not only counts the frequency of the words, but also tries to adjust the weights/frequency by comparing the occurrence of the words in the corpus, a huge collection of documents. \n",
    "\n",
    "Produce a Logistic Regression model based on data represented in tf-idf form, with L2 regularization strength of 100. Evaluate and show the f1 score. How is TfidfVectorizer different than CountVectorizer?\n",
    "\n",
    "A: The F1 score using TfidfVectorizer(0.75) is higher than CountVectorizer(0.7). The adjusted counts/frequency of features based on the corpus improved the performance of the model. \n",
    "\n",
    "Explain what the R ratio describes. \n",
    "\n",
    "A: The R-ratio describes the ratio between the predicted probability of the model to the 𝑝𝑟𝑒𝑑𝑖𝑐𝑡𝑒𝑑 𝑝𝑟𝑜𝑏𝑎𝑏𝑖𝑙𝑖𝑡𝑦 𝑜𝑓 the 𝑐𝑜𝑟𝑟𝑒𝑐𝑡 𝑙𝑎𝑏𝑒𝑙.  This ratio kind of describes how well the model is calibrated, which means how close the predicted probability is to the probability with the correct label.\n",
    "\n",
    "What kinds of mistakes is the model making? \n",
    "\n",
    "A: A lot of cases are misclassified with case 3, religion, especially with case 0, the alt.theism. This part needs more work to differentiate the two topics, since the topics are kind of related . \n",
    "\n",
    "Suggest a way to address one particular issue that you see.\n",
    "\n",
    "A: I would actually combine the two topics in a way since they are close to each other. I will then generate a logistic regression model to differentiate the combined category with the other two, and build another two-class logistic regression model to categorize alt.theism and religion topics. The features should be more differentiable in the second level. \n"
   ]
  },
  {
   "cell_type": "markdown",
   "metadata": {
    "colab_type": "text",
    "id": "VmsDxtzoFsx1"
   },
   "source": [
    "### Part 8 EXTRA CREDIT:\n",
    "\n",
    "Produce a Logistic Regression model to implement your suggestion from Part 7."
   ]
  },
  {
   "cell_type": "code",
   "execution_count": null,
   "metadata": {
    "colab": {},
    "colab_type": "code",
    "id": "ZMaqe8c5Fsx2"
   },
   "outputs": [],
   "source": []
  }
 ],
 "metadata": {
  "colab": {
   "collapsed_sections": [],
   "name": "firstname_lastname_p2.ipynb",
   "private_outputs": true,
   "provenance": [
    {
     "file_id": "https://github.com/MIDS-W207/Master/blob/master/Projects/firstname_lastname_p2.ipynb",
     "timestamp": 1559779272103
    }
   ],
   "version": "0.3.2"
  },
  "kernelspec": {
   "display_name": "Python 3",
   "language": "python",
   "name": "python3"
  },
  "language_info": {
   "codemirror_mode": {
    "name": "ipython",
    "version": 3
   },
   "file_extension": ".py",
   "mimetype": "text/x-python",
   "name": "python",
   "nbconvert_exporter": "python",
   "pygments_lexer": "ipython3",
   "version": "3.8.3"
  },
  "toc": {
   "base_numbering": 1,
   "nav_menu": {},
   "number_sections": false,
   "sideBar": true,
   "skip_h1_title": true,
   "title_cell": "Table of Contents",
   "title_sidebar": "Contents",
   "toc_cell": false,
   "toc_position": {},
   "toc_section_display": true,
   "toc_window_display": false
  }
 },
 "nbformat": 4,
 "nbformat_minor": 1
}
